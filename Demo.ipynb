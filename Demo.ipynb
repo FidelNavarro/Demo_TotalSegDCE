{
 "cells": [
  {
   "cell_type": "code",
   "execution_count": 1,
   "id": "dfe3727a-7f4e-4a09-8e80-7a4a458e620f",
   "metadata": {},
   "outputs": [],
   "source": [
    "import numpy as np\n",
    "from utils.DCE_tools import load_dicom_4d, run_totalsegmentator"
   ]
  },
  {
   "cell_type": "code",
   "execution_count": 2,
   "id": "f139aca9-badd-4723-b687-0e60391c1ef1",
   "metadata": {},
   "outputs": [
    {
     "name": "stderr",
     "output_type": "stream",
     "text": [
      "Processing Files: 100%|█████████████████████████████████████████████████████████| 15480/15480 [00:49<00:00, 312.74it/s]\n"
     ]
    },
    {
     "name": "stdout",
     "output_type": "stream",
     "text": [
      "Shape of 4D DICOM array: (215, 72, 224, 224)\n",
      "With voxel dimension: 2.232143 x 2.232143 x 3.000000 mm^3\n"
     ]
    }
   ],
   "source": [
    "dicom_folder_path = 'Test/patient_dyn_path' #path to dicom folder\n",
    "data_4d, dims = load_dicom_4d(dicom_folder_path, voxel_dims=True, verbose=True) #function can be use to load a 4D dicom folder"
   ]
  },
  {
   "cell_type": "markdown",
   "id": "aafe6785-d317-4562-9acb-2b4a6b452040",
   "metadata": {},
   "source": [
    "# 4D dataset case\n",
    "\n",
    "The run_totalsegmentator function requires a numpy array as an input.\n",
    "This input can be both 3D or 4D.\n",
    "\n",
    "The first example bellow works for 4D arrays (format='4D').\n",
    "\n",
    "ha_vol: is the timepoint/3D volume that will be use to segment the aorta. \n"
   ]
  },
  {
   "cell_type": "code",
   "execution_count": 6,
   "id": "9c148822-21ab-4d15-83dc-c93aac918399",
   "metadata": {},
   "outputs": [
    {
     "name": "stdout",
     "output_type": "stream",
     "text": [
      "\n",
      "...<<Running TotalSegmentator>>...\n",
      "\n",
      "...<<Masks created>>...\n"
     ]
    }
   ],
   "source": [
    "output_folder = 'Test/TotalSeg_output'\n",
    "aorta_mask = run_totalsegmentator(data_4d, dims, output_folder, format='4D',\n",
    "                                  ha_vol=0, task=\"total_mr\", return_mask=True,\n",
    "                                  quiet=True, verbose=True)"
   ]
  },
  {
   "cell_type": "code",
   "execution_count": 7,
   "id": "87fe5089-a604-4ae6-882f-5b0cce46f9e5",
   "metadata": {},
   "outputs": [
    {
     "data": {
      "image/png": "[encoded data removed]",
      "text/plain": [
       "<Figure size 640x480 with 1 Axes>"
      ]
     },
     "metadata": {},
     "output_type": "display_data"
    }
   ],
   "source": [
    "import matplotlib.pyplot as plt\n",
    "%matplotlib inline\n",
    "plt.imshow(aorta_mask[45])\n",
    "plt.show()"
   ]
  },
  {
   "cell_type": "markdown",
   "id": "f5b4e6a5-da7a-4ad9-98a5-2a433009403d",
   "metadata": {},
   "source": [
    "# 3D dataset case\n",
    "\n",
    "The example bellow works for 3D arrays (format='3D').\n",
    "ha_vol: is no longer required "
   ]
  },
  {
   "cell_type": "code",
   "execution_count": 8,
   "id": "a3579e64-57d2-4db5-9732-f84abca21379",
   "metadata": {},
   "outputs": [
    {
     "data": {
      "text/plain": [
       "(72, 224, 224)"
      ]
     },
     "execution_count": 8,
     "metadata": {},
     "output_type": "execute_result"
    }
   ],
   "source": [
    "data3d = data_4d[0]\n",
    "data3d.shape"
   ]
  },
  {
   "cell_type": "code",
   "execution_count": 9,
   "id": "3e6f7f71-a109-4849-9c73-167294d5e264",
   "metadata": {},
   "outputs": [
    {
     "name": "stdout",
     "output_type": "stream",
     "text": [
      "\n",
      "...<<Running TotalSegmentator>>...\n",
      "\n",
      "...<<Masks created>>...\n"
     ]
    }
   ],
   "source": [
    "output_folder = 'Test/TotalSeg_output'\n",
    "aorta_mask = run_totalsegmentator(data3d, dims, output_folder, format='3D',\n",
    "                                  task=\"total_mr\", return_mask=True,\n",
    "                                  quiet=True, verbose=True)"
   ]
  },
  {
   "cell_type": "code",
   "execution_count": 11,
   "id": "4bcaf72a-3bc5-43a0-a1a9-73e39a8e5158",
   "metadata": {},
   "outputs": [
    {
     "data": {
      "text/plain": [
       "<matplotlib.image.AxesImage at 0x23644dd7090>"
      ]
     },
     "execution_count": 11,
     "metadata": {},
     "output_type": "execute_result"
    },
    {
     "data": {
      "image/png": "[encoded data removed]",
      "text/plain": [
       "<Figure size 640x480 with 1 Axes>"
      ]
     },
     "metadata": {},
     "output_type": "display_data"
    }
   ],
   "source": [
    "%matplotlib inline\n",
    "plt.imshow(aorta_mask[45])"
   ]
  },
  {
   "cell_type": "code",
   "execution_count": null,
   "id": "4141838c-3766-47d7-8f4b-f7a3f5719665",
   "metadata": {},
   "outputs": [],
   "source": []
  }
 ],
 "metadata": {
  "kernelspec": {
   "display_name": "Python 3 (ipykernel)",
   "language": "python",
   "name": "python3"
  },
  "language_info": {
   "codemirror_mode": {
    "name": "ipython",
    "version": 3
   },
   "file_extension": ".py",
   "mimetype": "text/x-python",
   "name": "python",
   "nbconvert_exporter": "python",
   "pygments_lexer": "ipython3",
   "version": "3.11.5"
  }
 },
 "nbformat": 4,
 "nbformat_minor": 5
}
